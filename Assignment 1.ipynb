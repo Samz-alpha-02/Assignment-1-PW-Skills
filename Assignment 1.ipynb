{
 "cells": [
  {
   "cell_type": "code",
   "execution_count": 2,
   "id": "e5e68488-ebea-4a07-ae2e-862cff075d5c",
   "metadata": {},
   "outputs": [],
   "source": [
    "#Q1(1)\n",
    "s = 'Delhi'"
   ]
  },
  {
   "cell_type": "code",
   "execution_count": 4,
   "id": "5dc6c1ad-6087-4d04-ac2e-272922a815ff",
   "metadata": {},
   "outputs": [],
   "source": [
    "#Q1(2)\n",
    "l = [2,6.9,True,'CAT',5]"
   ]
  },
  {
   "cell_type": "code",
   "execution_count": 6,
   "id": "4b5809ce-032a-4c04-96be-99bbaa7af13e",
   "metadata": {},
   "outputs": [],
   "source": [
    "#Q1(3)\n",
    "n = 8.9"
   ]
  },
  {
   "cell_type": "code",
   "execution_count": 9,
   "id": "60d0fa01-2a6a-4cef-9505-76c73d21317f",
   "metadata": {},
   "outputs": [],
   "source": [
    "#Q1(4)\n",
    "t = (True,'batman',4.2,8)"
   ]
  },
  {
   "cell_type": "code",
   "execution_count": null,
   "id": "991c8384-0a57-41e6-9c35-933f0629464f",
   "metadata": {},
   "outputs": [],
   "source": []
  },
  {
   "cell_type": "code",
   "execution_count": 11,
   "id": "05a20c68-3a48-4307-a5d3-9e45b2f49614",
   "metadata": {},
   "outputs": [
    {
     "data": {
      "text/plain": [
       "str"
      ]
     },
     "execution_count": 11,
     "metadata": {},
     "output_type": "execute_result"
    }
   ],
   "source": [
    "#Q2(1)\n",
    "var1 = ' '\n",
    "type(var1)"
   ]
  },
  {
   "cell_type": "code",
   "execution_count": 13,
   "id": "b9651b43-9e0a-4fb7-a3da-dd03a50035c0",
   "metadata": {},
   "outputs": [
    {
     "data": {
      "text/plain": [
       "str"
      ]
     },
     "execution_count": 13,
     "metadata": {},
     "output_type": "execute_result"
    }
   ],
   "source": [
    "#Q2(2)\n",
    "var2 = '[ DS , ML , Python]'\n",
    "type(var2)"
   ]
  },
  {
   "cell_type": "code",
   "execution_count": 15,
   "id": "22b00535-62e1-4f08-856d-b379a2638449",
   "metadata": {},
   "outputs": [
    {
     "data": {
      "text/plain": [
       "list"
      ]
     },
     "execution_count": 15,
     "metadata": {},
     "output_type": "execute_result"
    }
   ],
   "source": [
    "#Q2(3)\n",
    "var3 = [ 'DS' , 'ML' , 'Python' ]\n",
    "type(var3)"
   ]
  },
  {
   "cell_type": "code",
   "execution_count": 17,
   "id": "d32f3ae1-fb47-484f-a5a9-5d2db5d1629b",
   "metadata": {},
   "outputs": [
    {
     "data": {
      "text/plain": [
       "float"
      ]
     },
     "execution_count": 17,
     "metadata": {},
     "output_type": "execute_result"
    }
   ],
   "source": [
    "#Q2(4)\n",
    "var4 = 1.\n",
    "type(var4)"
   ]
  },
  {
   "cell_type": "code",
   "execution_count": null,
   "id": "64cb979d-f19b-443e-824f-9ebc63b88213",
   "metadata": {},
   "outputs": [],
   "source": []
  },
  {
   "cell_type": "code",
   "execution_count": 21,
   "id": "105b50fb-0026-4584-97b6-66feb7259bf3",
   "metadata": {},
   "outputs": [
    {
     "name": "stdout",
     "output_type": "stream",
     "text": [
      "5.0\n"
     ]
    }
   ],
   "source": [
    "#Q3(1)\n",
    "# / is used for normal division and is used to divide the first operand by the second one.\n",
    "a = 20\n",
    "b = 4\n",
    "print(a/b)"
   ]
  },
  {
   "cell_type": "code",
   "execution_count": 22,
   "id": "54acd6b4-0e65-4e23-be86-5398fa109d10",
   "metadata": {},
   "outputs": [
    {
     "name": "stdout",
     "output_type": "stream",
     "text": [
      "3\n"
     ]
    }
   ],
   "source": [
    "#Q3(2)\n",
    "# % operator is Modulus operator and is used to return the remainder when the first operand is divided by the second one.\n",
    "a = 19\n",
    "b = 4\n",
    "print(a%b)"
   ]
  },
  {
   "cell_type": "code",
   "execution_count": 23,
   "id": "11dc07c7-b7e3-43e6-a774-735559a7e41b",
   "metadata": {},
   "outputs": [
    {
     "name": "stdout",
     "output_type": "stream",
     "text": [
      "6\n"
     ]
    }
   ],
   "source": [
    "#Q3(3)\n",
    "# // operator is used to return the floor value when the first operand is divided by the second one.\n",
    "a = 19\n",
    "b = 3\n",
    "print(a//b)"
   ]
  },
  {
   "cell_type": "code",
   "execution_count": 24,
   "id": "5ed6745f-2e0c-45c2-aaee-3fc5bf7e7a39",
   "metadata": {},
   "outputs": [
    {
     "name": "stdout",
     "output_type": "stream",
     "text": [
      "64\n"
     ]
    }
   ],
   "source": [
    "#Q3(4)\n",
    "# ** is used to get the result of the first operand raised to the power of the second.\n",
    "a = 4\n",
    "b = 3\n",
    "print(a**b)"
   ]
  },
  {
   "cell_type": "code",
   "execution_count": null,
   "id": "0174f73c-e5d6-43b9-b63c-2a5e316e70b1",
   "metadata": {},
   "outputs": [],
   "source": []
  },
  {
   "cell_type": "code",
   "execution_count": 31,
   "id": "fae6c799-e0fa-495b-9fac-b672cf9b56c6",
   "metadata": {},
   "outputs": [
    {
     "name": "stdout",
     "output_type": "stream",
     "text": [
      "<class 'int'>\n",
      "<class 'int'>\n",
      "<class 'bool'>\n",
      "<class 'str'>\n",
      "<class 'float'>\n",
      "<class 'complex'>\n",
      "<class 'str'>\n",
      "<class 'int'>\n",
      "<class 'complex'>\n",
      "<class 'bool'>\n"
     ]
    }
   ],
   "source": [
    "#Q4\n",
    "L = [2,7,True,'Student',5.7,2j,'PW Skills',1,9j,False]\n",
    "for i in L:\n",
    "    print(type(i))"
   ]
  },
  {
   "cell_type": "code",
   "execution_count": null,
   "id": "e0dbac91-37cc-4a4c-8322-0b3eb5769f13",
   "metadata": {},
   "outputs": [],
   "source": []
  },
  {
   "cell_type": "code",
   "execution_count": 34,
   "id": "080a6782-1a28-4bbb-ae8f-723db3ebde6f",
   "metadata": {},
   "outputs": [
    {
     "name": "stdout",
     "output_type": "stream",
     "text": [
      "5280 is divisible by 4 for 2 times\n"
     ]
    }
   ],
   "source": [
    "#Q5\n",
    "A = 5280\n",
    "B = 4\n",
    "temp = A\n",
    "count = 0\n",
    "\n",
    "while A % B == 0:\n",
    "    count += 1\n",
    "    A = A / B\n",
    "\n",
    "print(f\"{temp} is divisible by {B} for {count} times\")\n"
   ]
  },
  {
   "cell_type": "code",
   "execution_count": null,
   "id": "93f6ca24-034a-40f6-9425-f620d0f23008",
   "metadata": {},
   "outputs": [],
   "source": []
  },
  {
   "cell_type": "code",
   "execution_count": 35,
   "id": "e0217d8e-bfd0-4836-b241-c0f518ca2724",
   "metadata": {},
   "outputs": [
    {
     "name": "stdout",
     "output_type": "stream",
     "text": [
      "5 is not divisible by 3\n",
      "18 is divisible by 3\n",
      "7 is not divisible by 3\n",
      "23 is not divisible by 3\n",
      "101 is not divisible by 3\n",
      "254 is not divisible by 3\n",
      "21 is divisible by 3\n",
      "756 is divisible by 3\n",
      "442 is not divisible by 3\n",
      "971 is not divisible by 3\n",
      "12 is divisible by 3\n",
      "54 is divisible by 3\n",
      "67 is not divisible by 3\n",
      "45 is divisible by 3\n",
      "119 is not divisible by 3\n",
      "201 is divisible by 3\n",
      "554 is not divisible by 3\n",
      "891 is divisible by 3\n",
      "990 is divisible by 3\n",
      "674 is not divisible by 3\n",
      "412 is not divisible by 3\n",
      "87 is divisible by 3\n",
      "712 is not divisible by 3\n",
      "1002 is divisible by 3\n",
      "5341 is not divisible by 3\n"
     ]
    }
   ],
   "source": [
    "#Q6\n",
    "L1 = [5,18,7,23,101,254,21,756,442,971,12,54,67,45,119,201,554,891,990,674,412,87,712,1002,5341]\n",
    "for i in L1:\n",
    "    if i%3==0:\n",
    "        print(f\"{i} is divisible by 3\")\n",
    "    else:\n",
    "        print(f\"{i} is not divisible by 3\")"
   ]
  },
  {
   "cell_type": "code",
   "execution_count": null,
   "id": "f91beffe-a67e-4042-8d4a-2ef0e67b1842",
   "metadata": {},
   "outputs": [],
   "source": []
  },
  {
   "cell_type": "code",
   "execution_count": 37,
   "id": "ea7cf353-0bf4-44d0-a35b-8c944a08a075",
   "metadata": {},
   "outputs": [
    {
     "name": "stdout",
     "output_type": "stream",
     "text": [
      "Class\n",
      "Glass\n",
      "[2, 5, 7, 10, 19]\n",
      "[2, 45, 7, 10, 19]\n"
     ]
    }
   ],
   "source": [
    "#Q7\n",
    "'''In programming, mutable and immutable are terms used to describe the behavior of data types in relation to their \n",
    "   ability to be modified after creation.\n",
    "   \n",
    "   An immutable data type is one that cannot be changed once it is created. Any attempt to modify its value will result \n",
    "   in creating a new object with the modified value.Some of the immutable data types are Strings and Tuples.In many \n",
    "   programming languages, strings are immutable.Once a string is created, its value cannot be changed.Similarly,once a \n",
    "   tuple is created,its elements cannot be modified.\n",
    "   \n",
    "   On the other hand, mutable data types can be modified after creation. Changes made to the object will directly affect \n",
    "   the object itself, without creating a new object.Some of the immutable data types are Lists and Dictionaries.Lists are \n",
    "   a common mutable data type. Elements can be added,removed,or modified within a list.Dictionaries are also mutable and \n",
    "   allow modifications to their key-value pairs.'''\n",
    "\n",
    "# Example of String as Immutable Data Type.\n",
    "s = 'Class'\n",
    "s_new = s.replace('C','G')\n",
    "print(s)\n",
    "print(s_new)\n",
    "\n",
    "# Example of List as Mutable Data Type.\n",
    "l2 = [2,5,7,10]\n",
    "l2.append(19)\n",
    "print(l2)\n",
    "l2[1] = 45\n",
    "print(l2)"
   ]
  }
 ],
 "metadata": {
  "kernelspec": {
   "display_name": "Python 3 (ipykernel)",
   "language": "python",
   "name": "python3"
  },
  "language_info": {
   "codemirror_mode": {
    "name": "ipython",
    "version": 3
   },
   "file_extension": ".py",
   "mimetype": "text/x-python",
   "name": "python",
   "nbconvert_exporter": "python",
   "pygments_lexer": "ipython3",
   "version": "3.10.8"
  }
 },
 "nbformat": 4,
 "nbformat_minor": 5
}
